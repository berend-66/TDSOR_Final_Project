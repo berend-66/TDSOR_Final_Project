{
 "cells": [
  {
   "cell_type": "code",
   "execution_count": 22,
   "id": "b15c0475",
   "metadata": {},
   "outputs": [],
   "source": [
    "import requests\n",
    "from bs4 import BeautifulSoup\n",
    "import pandas as pd\n",
    "\n",
    "from IPython.display import FileLink"
   ]
  },
  {
   "cell_type": "markdown",
   "id": "91dc0b47",
   "metadata": {},
   "source": [
    "# 2004 - 2010"
   ]
  },
  {
   "cell_type": "code",
   "execution_count": 16,
   "id": "ef59b37b",
   "metadata": {},
   "outputs": [
    {
     "name": "stdout",
     "output_type": "stream",
     "text": [
      "CSV file has been created.\n"
     ]
    }
   ],
   "source": [
    "# Base URL for FOMC historical materials\n",
    "base_url = \"https://www.federalreserve.gov\"\n",
    "\n",
    "# Function to scrape meeting dates\n",
    "def scrape_fomc_dates(year):\n",
    "    url = f\"{base_url}/monetarypolicy/fomchistorical{year}.htm\"\n",
    "    response = requests.get(url)\n",
    "    if response.status_code != 200:\n",
    "        print(f\"Failed to fetch data for {year}\")\n",
    "        return []\n",
    "    \n",
    "    soup = BeautifulSoup(response.text, 'html.parser')\n",
    "    meetings = soup.find_all('div', {'class': 'panel panel-default'})\n",
    "    dates = []\n",
    "    \n",
    "    for meeting in meetings:\n",
    "        title = meeting.find('div', {'class': 'panel-heading'}).get_text(strip=True)\n",
    "        if \"Meeting\" in title:\n",
    "            date = title.split(\"|\")[0].strip()\n",
    "            dates.append(date)\n",
    "    \n",
    "    return dates\n",
    "\n",
    "# Years to scrape\n",
    "years = range(2004, 2011)  # Update end year as needed\n",
    "\n",
    "# Collect all meeting dates\n",
    "all_dates = []\n",
    "for year in years:\n",
    "    year_dates = scrape_fomc_dates(year)\n",
    "    for date in year_dates:\n",
    "        all_dates.append({\"Year\": year, \"Date\": date})\n",
    "\n",
    "# Create DataFrame and save to CSV\n",
    "df = pd.DataFrame(all_dates)\n",
    "df.to_csv(\"FOMC_Meeting_Dates_04_10.csv\", index=False)\n",
    "print(\"CSV file has been created.\")\n"
   ]
  },
  {
   "cell_type": "code",
   "execution_count": 17,
   "id": "1132f6ab",
   "metadata": {},
   "outputs": [
    {
     "data": {
      "text/html": [
       "<a href='FOMC_Meeting_Dates_04_10.csv' target='_blank'>FOMC_Meeting_Dates_04_10.csv</a><br>"
      ],
      "text/plain": [
       "/Users/eytanrozenblum/FOMC_Meeting_Dates_04_10.csv"
      ]
     },
     "execution_count": 17,
     "metadata": {},
     "output_type": "execute_result"
    }
   ],
   "source": [
    "FileLink(r'FOMC_Meeting_Dates_04_10.csv')"
   ]
  },
  {
   "cell_type": "markdown",
   "id": "b2e07fc3",
   "metadata": {},
   "source": [
    "# 2011-2018"
   ]
  },
  {
   "cell_type": "code",
   "execution_count": 19,
   "id": "a7cc0313",
   "metadata": {},
   "outputs": [
    {
     "name": "stdout",
     "output_type": "stream",
     "text": [
      "Fetching https://www.federalreserve.gov/monetarypolicy/fomchistorical2011.htm: Status 200\n",
      "Fetching https://www.federalreserve.gov/monetarypolicy/fomchistorical2012.htm: Status 200\n",
      "Fetching https://www.federalreserve.gov/monetarypolicy/fomchistorical2013.htm: Status 200\n",
      "Fetching https://www.federalreserve.gov/monetarypolicy/fomchistorical2014.htm: Status 200\n",
      "Fetching https://www.federalreserve.gov/monetarypolicy/fomchistorical2015.htm: Status 200\n",
      "Fetching https://www.federalreserve.gov/monetarypolicy/fomchistorical2016.htm: Status 200\n",
      "Fetching https://www.federalreserve.gov/monetarypolicy/fomchistorical2017.htm: Status 200\n",
      "Fetching https://www.federalreserve.gov/monetarypolicy/fomchistorical2018.htm: Status 200\n",
      "CSV file with dates from 2011 to 2018 has been created.\n"
     ]
    }
   ],
   "source": [
    "import requests\n",
    "from bs4 import BeautifulSoup\n",
    "import pandas as pd\n",
    "import time\n",
    "\n",
    "base_url = \"https://www.federalreserve.gov\"\n",
    "\n",
    "def scrape_fomc_dates(year):\n",
    "    url = f\"{base_url}/monetarypolicy/fomchistorical{year}.htm\"\n",
    "    response = requests.get(url)\n",
    "    print(f\"Fetching {url}: Status {response.status_code}\")  # Debug output\n",
    "    if response.status_code != 200:\n",
    "        print(f\"Failed to fetch data for {year}\")\n",
    "        return []\n",
    "    \n",
    "    soup = BeautifulSoup(response.text, 'html.parser')\n",
    "    dates = []\n",
    "    panels = soup.find_all('div', {'class': 'panel panel-default panel-padded'})\n",
    "    for panel in panels:\n",
    "        header = panel.find('h5', {'class': 'panel-heading panel-heading--shaded'})\n",
    "        if header:\n",
    "            date_text = header.text.strip()  # Example: \"January 30-31 Meeting - 2018\"\n",
    "            dates.append(date_text)\n",
    "    \n",
    "    time.sleep(1)  # Delay to prevent rate limiting\n",
    "    return dates\n",
    "\n",
    "# Years range for 2011 to 2018\n",
    "years = range(2011, 2019)\n",
    "\n",
    "# Collect all meeting dates\n",
    "all_dates = []\n",
    "for year in years:\n",
    "    year_dates = scrape_fomc_dates(year)\n",
    "    all_dates.extend([{\"Year\": year, \"Date\": date} for date in year_dates])\n",
    "\n",
    "df = pd.DataFrame(all_dates)\n",
    "df.to_csv(\"FOMC_Meeting_Dates_11_18.csv\", index=False)\n",
    "print(\"CSV file with dates from 2011 to 2018 has been created.\")"
   ]
  },
  {
   "cell_type": "code",
   "execution_count": 20,
   "id": "3f52a0b3",
   "metadata": {},
   "outputs": [
    {
     "data": {
      "text/html": [
       "<a href='FOMC_Meeting_Dates_11_18.csv' target='_blank'>FOMC_Meeting_Dates_11_18.csv</a><br>"
      ],
      "text/plain": [
       "/Users/eytanrozenblum/FOMC_Meeting_Dates_11_18.csv"
      ]
     },
     "execution_count": 20,
     "metadata": {},
     "output_type": "execute_result"
    }
   ],
   "source": [
    "FileLink(r'FOMC_Meeting_Dates_11_18.csv')"
   ]
  },
  {
   "cell_type": "markdown",
   "id": "e8f06ab8",
   "metadata": {},
   "source": [
    "# 2019-2024"
   ]
  },
  {
   "cell_type": "code",
   "execution_count": 27,
   "id": "557c7fd9",
   "metadata": {},
   "outputs": [
    {
     "name": "stdout",
     "output_type": "stream",
     "text": [
      "Fetching https://www.federalreserve.gov/monetarypolicy/fomccalendars.htm: Status 200\n",
      "CSV file with dates from 2019 to 2024 has been created in chronological order.\n"
     ]
    }
   ],
   "source": [
    "base_url = \"https://www.federalreserve.gov/monetarypolicy/fomccalendars.htm\"\n",
    "\n",
    "def scrape_fomc_meetings():\n",
    "    response = requests.get(base_url)\n",
    "    print(f\"Fetching {base_url}: Status {response.status_code}\")  # Debug output\n",
    "    if response.status_code != 200:\n",
    "        print(\"Failed to fetch data\")\n",
    "        return []\n",
    "    \n",
    "    soup = BeautifulSoup(response.text, 'html.parser')\n",
    "    panels = soup.find_all('div', {'class': 'panel panel-default'})\n",
    "    meeting_data = []\n",
    "    \n",
    "    for panel in reversed(panels):  # Reverse the order of panels to maintain chronological order\n",
    "        year_heading = panel.find('h4')\n",
    "        if year_heading and year_heading.text.endswith(\"FOMC Meetings\"):\n",
    "            year = year_heading.text.split()[0]  # Assuming the year is the first word in the heading\n",
    "            meetings = panel.find_all('div', {'class': 'fomc-meeting'})\n",
    "            for meeting in meetings:\n",
    "                month = meeting.find('div', {'class': 'fomc-meeting__month'}).text.strip()\n",
    "                date = meeting.find('div', {'class': 'fomc-meeting__date'}).text.strip()\n",
    "                full_date = f\"{month} {date} - {year}\"\n",
    "                meeting_data.append({\"Year\": year, \"Date\": full_date})\n",
    "\n",
    "    return meeting_data\n",
    "\n",
    "# Fetch meeting data\n",
    "fomc_meetings = scrape_fomc_meetings()\n",
    "\n",
    "# Create DataFrame\n",
    "df = pd.DataFrame(fomc_meetings)\n",
    "\n",
    "df.to_csv(\"FOMC_Meeting_Dates_19_24.csv\", index=False)\n",
    "print(\"CSV file with dates from 2019 to 2024 has been created in chronological order.\")"
   ]
  },
  {
   "cell_type": "code",
   "execution_count": 28,
   "id": "7fc63199",
   "metadata": {},
   "outputs": [
    {
     "data": {
      "text/html": [
       "<a href='FOMC_Meeting_Dates_19_24.csv' target='_blank'>FOMC_Meeting_Dates_19_24.csv</a><br>"
      ],
      "text/plain": [
       "/Users/eytanrozenblum/FOMC_Meeting_Dates_19_24.csv"
      ]
     },
     "execution_count": 28,
     "metadata": {},
     "output_type": "execute_result"
    }
   ],
   "source": [
    "FileLink(r'FOMC_Meeting_Dates_19_24.csv')"
   ]
  }
 ],
 "metadata": {
  "kernelspec": {
   "display_name": "Python 3 (ipykernel)",
   "language": "python",
   "name": "python3"
  },
  "language_info": {
   "codemirror_mode": {
    "name": "ipython",
    "version": 3
   },
   "file_extension": ".py",
   "mimetype": "text/x-python",
   "name": "python",
   "nbconvert_exporter": "python",
   "pygments_lexer": "ipython3",
   "version": "3.11.5"
  }
 },
 "nbformat": 4,
 "nbformat_minor": 5
}
